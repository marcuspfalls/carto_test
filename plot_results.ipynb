{
 "cells": [
  {
   "cell_type": "markdown",
   "metadata": {},
   "source": [
    "## Plot Results\n",
    "\n",
    "This notebook calls cluster_analysis.py, performs nearest-point interpolation to determine the 5 zones, and plots on a map of Madrid. Annotations of each block of code are below them. Annotation of cluster_analysis can be found in cluster_analysis.ipymb."
   ]
  },
  {
   "cell_type": "code",
   "execution_count": null,
   "metadata": {},
   "outputs": [],
   "source": [
    "import numpy as np\n",
    "import matplotlib.pyplot as plt\n",
    "from mpl_toolkits.basemap import Basemap\n",
    "import pandas as pd\n",
    "from scipy import interpolate"
   ]
  },
  {
   "cell_type": "markdown",
   "metadata": {},
   "source": [
    "Frequent user of matplotlib and the various scipy interpolate functions. First time using Basemap - recommended by a colleague as it's widely used within our department and well documented. "
   ]
  },
  {
   "cell_type": "code",
   "execution_count": null,
   "metadata": {},
   "outputs": [],
   "source": [
    "import cluster_analysis\n",
    "cluster_analysis.cluster_analysis()"
   ]
  },
  {
   "cell_type": "markdown",
   "metadata": {},
   "source": [
    "Import and call cluster_analysis from cluster_analysis.py"
   ]
  },
  {
   "cell_type": "code",
   "execution_count": null,
   "metadata": {},
   "outputs": [],
   "source": [
    "min_lon = -3.93455628\n",
    "min_lat = 40.25387182\n",
    "max_lon = -3.31993445\n",
    "max_lat = 40.57085727\n",
    "lats=np.arange(min_lat,max_lat,0.001)\n",
    "lons=np.arange(min_lon,max_lon,0.001)\n",
    "lons_grid, lats_grid = np.meshgrid(lons,lats)"
   ]
  },
  {
   "cell_type": "markdown",
   "metadata": {},
   "source": [
    "Setting up the grid at 0.001 degree resolution. "
   ]
  },
  {
   "cell_type": "code",
   "execution_count": null,
   "metadata": {},
   "outputs": [],
   "source": [
    "ref_grid = np.zeros((np.size(lats_grid), 2))\n",
    "ref_grid[:, 0] = np.ravel(lats_grid)\n",
    "ref_grid[:, 1] = np.ravel(lons_grid)\n",
    "pointdata=pd.read_csv('madrid_poi_clusters.csv')\n",
    "values = np.array(pointdata['cluster_id'])\n",
    "points = np.array([pointdata['lat'],pointdata['lon']])\n",
    "data = interpolate.griddata(points.T, values, ref_grid, method = 'nearest')\n",
    "data=np.reshape(data,np.shape(lats_grid))\n",
    "data = data.astype('float32')"
   ]
  },
  {
   "cell_type": "markdown",
   "metadata": {},
   "source": [
    "I decided to present this data on a map and determine the 5 zones by using nearest point interpolation. I used scipy's griddata function as it takes ungridded data as the reference, in this case the POIs, and returns it to a regular grid, i.e the one created by the exercise's given coordinates. "
   ]
  },
  {
   "cell_type": "code",
   "execution_count": null,
   "metadata": {},
   "outputs": [],
   "source": [
    "map = Basemap(llcrnrlon=min_lon,llcrnrlat=min_lat,urcrnrlon=max_lon,urcrnrlat=max_lat, resolution = 'h', epsg=2062)\n",
    "map.arcgisimage(service='World_Shaded_Relief', xpixels = 3000, verbose= True, zorder=1)\n",
    "map.readshapefile('/home/Earth/mfalls/Downloads/gadm36_ESP_4', '')"
   ]
  },
  {
   "cell_type": "markdown",
   "metadata": {},
   "source": [
    "Created the Basemap object to use in the plot. To present it as a map, I considered satellite view but it made the map look too cluttered and it distracted from the results. In addition, I used the municipal boundaries obtained from https://gadm.org/download_country.html. "
   ]
  },
  {
   "cell_type": "code",
   "execution_count": null,
   "metadata": {},
   "outputs": [],
   "source": [
    "map_min_lon,map_min_lat = map(min_lon, min_lat)\n",
    "map_max_lon,map_max_lat = map(max_lon, max_lat)\n",
    "x = np.linspace(0, map.urcrnrx, data.shape[1])  \n",
    "y = np.linspace(0, map.urcrnry, data.shape[0])\n",
    "xx, yy = np.meshgrid(x, y)"
   ]
  },
  {
   "cell_type": "markdown",
   "metadata": {},
   "source": [
    "Setting up the grid for plotting. I found this a bit tricky trying to understand the relationship between map() and the coordinates. I'm used to having (lat,lon) convention rather than (lon,lat). "
   ]
  },
  {
   "cell_type": "code",
   "execution_count": null,
   "metadata": {},
   "outputs": [],
   "source": [
    "px,py = map(np.array(pointdata['lon']), np.array(pointdata['lat']))\n",
    "map.scatter(px, py, marker='.', color='r',s=0.1,zorder=3)\n",
    "map.pcolormesh(xx, yy, data,zorder=2,alpha=0.2)\n",
    "plt.show()\n",
    "plt.savefig('madrid_poi_clusters.png')"
   ]
  },
  {
   "cell_type": "markdown",
   "metadata": {},
   "source": [
    "Plotting the 5 zones on the map, and also all of the POIs."
   ]
  }
 ],
 "metadata": {
  "kernelspec": {
   "display_name": "Python 3",
   "language": "python",
   "name": "python3"
  },
  "language_info": {
   "codemirror_mode": {
    "name": "ipython",
    "version": 3
   },
   "file_extension": ".py",
   "mimetype": "text/x-python",
   "name": "python",
   "nbconvert_exporter": "python",
   "pygments_lexer": "ipython3",
   "version": "3.7.3"
  }
 },
 "nbformat": 4,
 "nbformat_minor": 4
}
